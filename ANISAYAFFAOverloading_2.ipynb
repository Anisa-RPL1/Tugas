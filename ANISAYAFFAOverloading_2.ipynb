{
  "nbformat": 4,
  "nbformat_minor": 0,
  "metadata": {
    "colab": {
      "provenance": [],
      "include_colab_link": true
    },
    "kernelspec": {
      "name": "python3",
      "display_name": "Python 3"
    },
    "language_info": {
      "name": "python"
    }
  },
  "cells": [
    {
      "cell_type": "markdown",
      "metadata": {
        "id": "view-in-github",
        "colab_type": "text"
      },
      "source": [
        "<a href=\"https://colab.research.google.com/github/Anisa-RPL1/Tugas/blob/main/ANISAYAFFAOverloading_2.ipynb\" target=\"_parent\"><img src=\"https://colab.research.google.com/assets/colab-badge.svg\" alt=\"Open In Colab\"/></a>"
      ]
    },
    {
      "cell_type": "code",
      "execution_count": null,
      "metadata": {
        "id": "5zCytCeM1uD4"
      },
      "outputs": [],
      "source": [
        "class nama:\n",
        "  def hasil(self, num1=\" \", num2=\" \", num3=\" \", num4=\" \"):\n",
        "    print(num1 + num2 + num3 + num4)"
      ]
    },
    {
      "cell_type": "code",
      "source": [
        "coba = nama()\n",
        "\n",
        "coba.hasil(\"ANISA \", \"YAFFA \", \"ZAFIRAH\")\n",
        "coba.hasil(\"ANILA \", \"YAFFA \", \"ZAFIRAH\")\n",
        "coba.hasil(\"CLARISSA \", \"WULANDARI\")\n",
        "coba.hasil(\"DINDA \", \"AYU \", \"RAHMA\")"
      ],
      "metadata": {
        "id": "liQBcJWZ12MN",
        "colab": {
          "base_uri": "https://localhost:8080/"
        },
        "outputId": "201f838f-dc87-450d-f112-8b51ca86d6fa"
      },
      "execution_count": null,
      "outputs": [
        {
          "output_type": "stream",
          "name": "stdout",
          "text": [
            "ANISA YAFFA ZAFIRAH \n",
            "ANILA YAFFA ZAFIRAH \n",
            "CLARISSA WULANDARI  \n",
            "DINDA AYU RAHMA \n"
          ]
        }
      ]
    },
    {
      "cell_type": "code",
      "source": [
        "Tulisakan kesimpulan dari materi Overloading menurut pemahaman anda!\n",
        "Materi overloading ini, menurutku aku bisa membuat method dengan banyak parameter atau variasi parameter. Ada 2 macam trik, yaitu menggunakan variabel * args dan default parameter."
      ],
      "metadata": {
        "id": "xwFmppIG3JGE"
      },
      "execution_count": null,
      "outputs": []
    }
  ]
}