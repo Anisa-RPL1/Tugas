{
  "nbformat": 4,
  "nbformat_minor": 0,
  "metadata": {
    "colab": {
      "provenance": [],
      "include_colab_link": true
    },
    "kernelspec": {
      "name": "python3",
      "display_name": "Python 3"
    },
    "language_info": {
      "name": "python"
    }
  },
  "cells": [
    {
      "cell_type": "markdown",
      "metadata": {
        "id": "view-in-github",
        "colab_type": "text"
      },
      "source": [
        "<a href=\"https://colab.research.google.com/github/Anisa-RPL1/Tugas/blob/main/TugasInheritanceANISA2.ipynb\" target=\"_parent\"><img src=\"https://colab.research.google.com/assets/colab-badge.svg\" alt=\"Open In Colab\"/></a>"
      ]
    },
    {
      "cell_type": "markdown",
      "source": [
        "Buatlah tiga kelas: User, Siswa, dan Guru. Class Siswa dan Guru mewarisi atribute dan fungsi dari class User. Keduanya menambahkan atribut dan fungsi tambahan sesuai dengan peran masing-masing.\n",
        "\n",
        "Output dari program ini akan menampilkan informasi seorang siswa dan seorang guru dengan menggunakan fungsi tampil_info() yang diwarisi dari class User. Untuk info user yang ditampilkan silakan ditentukan sendiri minimal ada nama dan umur.\n",
        "\n",
        "Untuk informasi khusus dari siswa dan guru silakan tentukan sendiri, minimal satu atribute tambahan yang membedakan antara siswa dan guru."
      ],
      "metadata": {
        "id": "oWYx5WDsIouf"
      }
    },
    {
      "cell_type": "code",
      "execution_count": 2,
      "metadata": {
        "id": "VQWWW4rpH9ve"
      },
      "outputs": [],
      "source": [
        "#Class user\n",
        "class Pengguna:\n",
        "   def __init__(self, nama, umur):\n",
        "      self.nama = nama\n",
        "      self.umur = umur\n",
        "\n",
        "   def tampil_info(self):\n",
        "       print(\"Nama:\", self.nama)\n",
        "       print(\"Umur:\" , self.umur)"
      ]
    },
    {
      "cell_type": "code",
      "source": [
        "#Class Siswa\n",
        "class Siswa(Pengguna):\n",
        "   def __init__(self, nama, umur, kelas):\n",
        "         super().__init__(nama, umur)\n",
        "         self.kelas = kelas\n",
        "\n",
        "   def tampil_info(self):\n",
        "       super().tampil_info()\n",
        "       print(\"Kelas:\",self.kelas)"
      ],
      "metadata": {
        "id": "i_iBjMciJJc5"
      },
      "execution_count": 3,
      "outputs": []
    },
    {
      "cell_type": "code",
      "source": [
        "#Class Guru\n",
        "class Guru(Pengguna):\n",
        "   def __init__(self, nama, umur, mata_pelajaran):\n",
        "       super().__init__(nama, umur)\n",
        "       self.mata_pelajaran = mata_pelajaran\n",
        "\n",
        "   def tampil_info(self):\n",
        "       super().tampil_info()\n",
        "       print(\"Mata pelajaran:\",self.mata_pelajaran)"
      ],
      "metadata": {
        "id": "lrnlKm6sJMjp"
      },
      "execution_count": 4,
      "outputs": []
    },
    {
      "cell_type": "code",
      "source": [
        "\n",
        "#Program menampilkan info\n",
        "siswa=Siswa(\"Anisa\", \"16\", \"XI RPL 1\")\n",
        "guru=Guru(\"Herlin\", \"20\", \"BK\")\n",
        "\n",
        "siswa.tampil_info()\n",
        "guru.tampil_info()"
      ],
      "metadata": {
        "id": "VDGIma_2JOVx",
        "colab": {
          "base_uri": "https://localhost:8080/"
        },
        "outputId": "ab16719c-aa58-4f93-d2ec-5df237fea878"
      },
      "execution_count": 5,
      "outputs": [
        {
          "output_type": "stream",
          "name": "stdout",
          "text": [
            "Nama: Anisa\n",
            "Umur: 16\n",
            "Kelas: XI RPL 1\n",
            "Nama: Herlin\n",
            "Umur: 20\n",
            "Mata pelajaran: BK\n"
          ]
        }
      ]
    }
  ]
}